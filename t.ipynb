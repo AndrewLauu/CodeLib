{
 "cells": [
  {
   "cell_type": "heading",
   "metadata": {},
   "level": 1,
   "source": [
    "Test for time 3rd-party module #maya #when #pendulum #moment"
   ]
  },
  {
   "cell_type": "code",
   "execution_count": 1,
   "metadata": {
    "collapsed": true
   },
   "outputs": [],
   "source": [
    "# -*- coding:utf-8 -*-\n",
    "# import lib\n",
    "import maya  \n",
    "import pendulum\n",
    "import when\n",
    "# import moment:require more than one package"
   ]
  },
  {
   "cell_type": "code",
   "execution_count": 21,
   "metadata": {},
   "outputs": [
    {
     "name": "stdout",
     "output_type": "stream",
     "text": [
      "2018-10-08\n2018\n1\n2018-10-08-Monday\n"
     ]
    }
   ],
   "source": [
    "# current date and year and week\n",
    "##when\n",
    "whToday = when.today()\n",
    "whTodayYear = whToday.year\n",
    "#no week num\n",
    "whTodayWeekday = whToday.isoweekday()\n",
    "whTodayFmt=when.format(whToday,\"%Y-%m-%d-%A\")\n",
    "print(whToday)\n",
    "print(whTodayYear)\n",
    "print(whTodayWeekday)\n",
    "print(whTodayFmt)\n"
   ]
  },
  {
   "cell_type": "code",
   "execution_count": 23,
   "metadata": {},
   "outputs": [
    {
     "name": "stdout",
     "output_type": "stream",
     "text": [
      "Mon, 08 Oct 2018 11:26:35 GMT\n2018\n41\n1\n2018-10-08-Monday\n"
     ]
    }
   ],
   "source": [
    "##maya\n",
    "myToday = maya.now()\n",
    "myTodayYear = myToday.year\n",
    "myTodayWeekNum = myToday.week\n",
    "myTodayWeekday = myToday.weekday\n",
    "myTodayFmt = format(myToday,\"%Y-%m-%d-%A\")\n",
    "print(myToday)\n",
    "print(myTodayYear)\n",
    "print(myTodayWeekNum)\n",
    "print(myTodayWeekday)\n",
    "print(myTodayFmt)\n",
    "## hard to code\n"
   ]
  },
  {
   "cell_type": "code",
   "execution_count": 27,
   "metadata": {},
   "outputs": [
    {
     "name": "stdout",
     "output_type": "stream",
     "text": [
      "2018-10-08T00:00:00+08:00\n2018\n41\n1\n2018-10-08-Monday\n"
     ]
    }
   ],
   "source": [
    "##pendulum\n",
    "pdToday = pendulum.today()\n",
    "pdTodayYear = pdToday.year\n",
    "pdTodayWeekNum = pdToday.week_of_year\n",
    "pdTodayWeekDay = pdToday.isoweekday()\n",
    "pdTodayFmt=format(pdToday,\"%Y-%m-%d-%A\")\n",
    "print(pdToday)\n",
    "print(pdTodayYear)\n",
    "print(pdTodayWeekNum)\n",
    "print(pdTodayWeekDay)\n",
    "print(pdTodayFmt)"
   ]
  },
  {
   "cell_type": "code",
   "execution_count": 29,
   "metadata": {},
   "outputs": [
    {
     "name": "stdout",
     "output_type": "stream",
     "text": [
      "2018-10-08 19:30:12.610012\n30\n19:30:12\n"
     ]
    }
   ],
   "source": [
    "#current time and minute\n",
    "## when\n",
    "whNow = when.now()\n",
    "whNowMin = whNow.minute\n",
    "whNowFmt = format(whNow,\"%H:%M:%S\")\n",
    "print(whNow)\n",
    "print(whNowMin)\n",
    "print(whNowFmt)"
   ]
  },
  {
   "cell_type": "code",
   "execution_count": 10,
   "metadata": {},
   "outputs": [
    {
     "name": "stdout",
     "output_type": "stream",
     "text": [
      "Mon, 08 Oct 2018 11:12:23 GMT\n12\n"
     ]
    }
   ],
   "source": [
    "## maya\n",
    "myNow = maya.now()\n",
    "myNowMin = myNow.minute\n",
    "print(myNow)\n",
    "print(myNowMin)\n"
   ]
  },
  {
   "cell_type": "code",
   "execution_count": null,
   "metadata": {},
   "outputs": [
    {
     "name": "stdout",
     "output_type": "stream",
     "text": [
      "2018-10-08T19:14:35.958243+08:00\n14\n"
     ]
    }
   ],
   "source": [
    "## pendulum\n",
    "pdNow = pendulum.now()\n",
    "pdNowMin = pdNow.minute\n",
    "print(pdNow)\n",
    "print(pdNowMin)\n"
   ]
  },
  {
   "cell_type": "code",
   "execution_count": null,
   "metadata": {},
   "outputs": [],
   "source": [
    "#time ibterval\n",
    "##when\n",
    "myDateInt = maya.now()-maya.when(\"yesterday\")\n",
    "print(myDateInt)\n"
   ]
  }
 ],
 "metadata": {
  "kernelspec": {
   "display_name": "Python 2",
   "language": "python",
   "name": "python2"
  },
  "language_info": {
   "codemirror_mode": {
    "name": "ipython",
    "version": 2
   },
   "file_extension": ".py",
   "mimetype": "text/x-python",
   "name": "python",
   "nbconvert_exporter": "python",
   "pygments_lexer": "ipython2",
   "version": "2.7.6"
  }
 },
 "nbformat": 4,
 "nbformat_minor": 0
}
